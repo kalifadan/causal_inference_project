{
 "cells": [
  {
   "cell_type": "code",
   "execution_count": 1,
   "metadata": {},
   "outputs": [],
   "source": [
    "import pandas as pd\n",
    "import numpy as np\n",
    "from sklearn import preprocessing\n",
    "from xgboost import XGBClassifier\n",
    "import sklearn\n",
    "import matplotlib.pyplot as plt\n",
    "from sklearn.metrics import classification_report\n",
    "from xgboost import XGBRegressor\n",
    "from sklearn.neighbors import KNeighborsRegressor\n",
    "from sklearn.linear_model import LinearRegression"
   ]
  },
  {
   "cell_type": "markdown",
   "metadata": {},
   "source": [
    "### Installation "
   ]
  },
  {
   "cell_type": "code",
   "execution_count": 2,
   "metadata": {},
   "outputs": [],
   "source": [
    "# !pip install xgboost"
   ]
  },
  {
   "cell_type": "code",
   "execution_count": 3,
   "metadata": {},
   "outputs": [],
   "source": [
    "# !brew install libomp"
   ]
  },
  {
   "cell_type": "markdown",
   "metadata": {},
   "source": [
    "## Preprocessing"
   ]
  },
  {
   "cell_type": "code",
   "execution_count": 4,
   "metadata": {},
   "outputs": [],
   "source": [
    "def read_data_file(data_num):\n",
    "    data = pd.read_csv(\"hw4_data_files/data\" + str(data_num) + \".csv\").drop(columns=['Unnamed: 0'])\n",
    "    return data"
   ]
  },
  {
   "cell_type": "code",
   "execution_count": 5,
   "metadata": {},
   "outputs": [],
   "source": [
    "def reformat_df(data):\n",
    "    obj_cols = data.columns[data.dtypes == 'object'].values\n",
    "    for col in obj_cols:\n",
    "        one_hot = pd.get_dummies(data[col], prefix=col)\n",
    "        data = data.join(one_hot)\n",
    "        data = data.drop(columns=[col])\n",
    "        \n",
    "    ss_cols = [col for col in data.columns if col != 'Y' and col != 'T']\n",
    "    bool_cols = [col for col in data if data[col].dropna().value_counts().index.isin([0,1]).all()]\n",
    "    reg_cols = [col for col in data.columns if col not in ss_cols] + bool_cols\n",
    "    \n",
    "    data_stand = data[ss_cols]\n",
    "    scaler = preprocessing.StandardScaler()\n",
    "    data_stand = pd.DataFrame(scaler.fit_transform(data_stand), columns = data_stand.columns)  \n",
    "    \n",
    "    for col in reg_cols:\n",
    "        data_stand[col] = data[col]  \n",
    "    return data_stand"
   ]
  },
  {
   "cell_type": "code",
   "execution_count": 6,
   "metadata": {},
   "outputs": [],
   "source": [
    "def split_df(data):\n",
    "    treated = data[data['T'] == 1]\n",
    "    control = data[data['T'] == 0]\n",
    "    X_treated = treated.drop(columns=['Y', 'T'])\n",
    "    X_control = control.drop(columns=['Y', 'T'])\n",
    "    Y_treated = treated['Y']\n",
    "    Y_control = control['Y']\n",
    "    return X_treated, Y_treated, X_control, Y_control"
   ]
  },
  {
   "cell_type": "markdown",
   "metadata": {},
   "source": [
    "## IPW"
   ]
  },
  {
   "cell_type": "markdown",
   "metadata": {},
   "source": [
    "* 'learning_rate': [0.005, 0.01, 0.02, 0.05],\n",
    "* 'max_depth': [5, 6, 7, 8, 10, 12, 15],\n",
    "* 'colsample_bytree': [0, 0.1, 0.2, 0.3],\n",
    "* 'min_child_weight': [1, 2],\n",
    "* 'n_estimators': [300, 500, 700, 1000],\n",
    "* 'gamma': [0, 0.5]"
   ]
  },
  {
   "cell_type": "code",
   "execution_count": 7,
   "metadata": {},
   "outputs": [],
   "source": [
    "def calc_ipw(X_treated, Y_treated, X_control, Y_control, X, T):\n",
    "    xgb_model = XGBClassifier(objective='binary:logistic', eval_metric=\"logloss\", use_label_encoder=False,\n",
    "                             colsample_bytree=0.1, max_depth=3, eta=0.1)\n",
    "    xgb_model.fit(X, T)\n",
    "    \n",
    "    probabilities = xgb_model.predict_proba(X_control)\n",
    "    prob_control = probabilities[:, 0]\n",
    "    \n",
    "    probabilities = xgb_model.predict_proba(X)\n",
    "    propensity_scores = probabilities[:, 1]\n",
    "    \n",
    "    w = prob_control / (1 - prob_control)\n",
    "    att = np.mean(Y_treated) - np.sum(Y_control * w) / np.sum(w)  \n",
    "    return propensity_scores, att"
   ]
  },
  {
   "cell_type": "markdown",
   "metadata": {},
   "source": [
    "## S-learner"
   ]
  },
  {
   "cell_type": "code",
   "execution_count": 8,
   "metadata": {},
   "outputs": [],
   "source": [
    "def S_learner(data, X_treated, Y_treated, X_control, Y_control):\n",
    "    new_X = data.drop(columns=['Y'])\n",
    "    new_Y = data['Y']\n",
    "\n",
    "    # model = XGBRegressor(max_depth=3, colsample_bytree=0.1, eta=0.1)\n",
    "    model = LinearRegression()\n",
    "    \n",
    "    model.fit(new_X, new_Y)\n",
    "    \n",
    "    treatment_df = X_treated.copy()\n",
    "    treatment_df['T'] = 1\n",
    "        \n",
    "    control_df = X_treated.copy()\n",
    "    control_df['T'] = 0\n",
    "    \n",
    "    pred_treatment = model.predict(treatment_df)\n",
    "    pred_control = model.predict(control_df)\n",
    "    \n",
    "    att = np.mean(pred_treatment) - np.mean(pred_control)\n",
    "    return att"
   ]
  },
  {
   "cell_type": "markdown",
   "metadata": {},
   "source": [
    "## T-learner"
   ]
  },
  {
   "cell_type": "code",
   "execution_count": 9,
   "metadata": {},
   "outputs": [],
   "source": [
    "def T_learner(X_treated, Y_treated, X_control, Y_control):\n",
    "    # model_treated = XGBRegressor()\n",
    "    # model_control = XGBRegressor()\n",
    "    \n",
    "    model_treated = LinearRegression()\n",
    "    model_control = LinearRegression()\n",
    "    \n",
    "    model_treated.fit(X_treated, Y_treated)\n",
    "    model_control.fit(X_control, Y_control)\n",
    "    \n",
    "    pred_treatment = model_treated.predict(X_treated)\n",
    "    pred_control = model_control.predict(X_treated)\n",
    "    \n",
    "    att = np.mean(pred_treatment) - np.mean(pred_control)\n",
    "    return att"
   ]
  },
  {
   "cell_type": "markdown",
   "metadata": {},
   "source": [
    "## Matching"
   ]
  },
  {
   "cell_type": "code",
   "execution_count": 10,
   "metadata": {},
   "outputs": [],
   "source": [
    "def Matching(X_treated, Y_treated, X_control, Y_control):\n",
    "    knn_model = KNeighborsRegressor(n_neighbors=1)\n",
    "    knn_model.fit(X_control, Y_control)\n",
    "    Y_pred = knn_model.predict(X_treated)\n",
    "    att = np.mean(Y_treated - Y_pred)\n",
    "    return att"
   ]
  },
  {
   "cell_type": "markdown",
   "metadata": {},
   "source": [
    "# ATT"
   ]
  },
  {
   "cell_type": "code",
   "execution_count": 11,
   "metadata": {},
   "outputs": [],
   "source": [
    "def calc_att_df(data_num):\n",
    "    data1 = read_data_file(data_num)\n",
    "    df = reformat_df(data1)\n",
    "\n",
    "    X_treated, Y_treated, X_control, Y_control = split_df(df)\n",
    "    X = df.drop(columns=['Y', 'T'])\n",
    "    Y = df['Y']\n",
    "    T = df['T']\n",
    "    \n",
    "    att_results = []\n",
    "    \n",
    "    print(\"Start calculating Att for dataset no.\" + str(data_num))\n",
    "    \n",
    "    propensity_scores_ipw, ipw_att = calc_ipw(X_treated, Y_treated, X_control, Y_control, X, T)\n",
    "    print(\"IPW ATT:\" ,ipw_att)\n",
    "    att_results.append(ipw_att)\n",
    "\n",
    "    s_learner_att = S_learner(df, X_treated, Y_treated, X_control, Y_control)\n",
    "    print(\"S-Learner ATT:\", s_learner_att)\n",
    "    att_results.append(s_learner_att)\n",
    "\n",
    "    t_learner_att = T_learner(X_treated, Y_treated, X_control, Y_control)\n",
    "    print(\"T-Learner ATT:\", t_learner_att)\n",
    "    att_results.append(t_learner_att)\n",
    "    \n",
    "    matching_att = Matching(X_treated, Y_treated, X_control, Y_control)\n",
    "    print(\"Matching ATT:\", matching_att)\n",
    "    att_results.append(matching_att)\n",
    "        \n",
    "    return att_results, propensity_scores_ipw"
   ]
  },
  {
   "cell_type": "code",
   "execution_count": 12,
   "metadata": {},
   "outputs": [],
   "source": [
    "def get_att_results():\n",
    "    att_results_1, propensity_scores_1 = calc_att_df(1)\n",
    "    best_att_1 = 0.2 * att_results_1[1] + 0.5 * att_results_1[3] + 0.3 * att_results_1[2]\n",
    "    att_results_1.append(best_att_1)\n",
    "    print(\"\")\n",
    "    att_results_2, propensity_scores_2 = calc_att_df(2)\n",
    "    best_att_2 = 0.2 * att_results_2[1] + 0.5 * att_results_2[3] + 0.3 * att_results_2[2]\n",
    "    att_results_2.append(best_att_2)\n",
    "    \n",
    "    dict_df = {'Type': range(1,6), 'data1': att_results_1, 'data2':att_results_2}\n",
    "    att_res = pd.DataFrame(data=dict_df)\n",
    "    att_res.to_csv(\"final/ATT_results.csv\", index=False)\n",
    "    \n",
    "    prop = [propensity_scores_1, propensity_scores_2]\n",
    "    prop_df = pd.DataFrame(data=prop, index=['data1', 'data2'])\n",
    "    prop_df.to_csv(\"final/models_propensity.csv\", header=False)\n",
    "    \n",
    "    return att_res, prop_df"
   ]
  },
  {
   "cell_type": "code",
   "execution_count": 13,
   "metadata": {},
   "outputs": [
    {
     "name": "stdout",
     "output_type": "stream",
     "text": [
      "Start calculating Att for dataset no.1\n",
      "IPW ATT: 6.343669477664777\n",
      "S-Learner ATT: 4.631261263427119\n",
      "T-Learner ATT: 4.334095686371272\n",
      "Matching ATT: 4.009718240917792\n",
      "\n",
      "Start calculating Att for dataset no.2\n",
      "IPW ATT: 4.200080944487386\n",
      "S-Learner ATT: 3.1236820096113656\n",
      "T-Learner ATT: 3.4733605977485937\n",
      "Matching ATT: 3.87412620809955\n"
     ]
    }
   ],
   "source": [
    "att_res, prop_df = get_att_results()"
   ]
  },
  {
   "cell_type": "code",
   "execution_count": 14,
   "metadata": {},
   "outputs": [
    {
     "data": {
      "text/html": [
       "<div>\n",
       "<style scoped>\n",
       "    .dataframe tbody tr th:only-of-type {\n",
       "        vertical-align: middle;\n",
       "    }\n",
       "\n",
       "    .dataframe tbody tr th {\n",
       "        vertical-align: top;\n",
       "    }\n",
       "\n",
       "    .dataframe thead th {\n",
       "        text-align: right;\n",
       "    }\n",
       "</style>\n",
       "<table border=\"1\" class=\"dataframe\">\n",
       "  <thead>\n",
       "    <tr style=\"text-align: right;\">\n",
       "      <th></th>\n",
       "      <th>Type</th>\n",
       "      <th>data1</th>\n",
       "      <th>data2</th>\n",
       "    </tr>\n",
       "  </thead>\n",
       "  <tbody>\n",
       "    <tr>\n",
       "      <th>0</th>\n",
       "      <td>1</td>\n",
       "      <td>6.343669</td>\n",
       "      <td>4.200081</td>\n",
       "    </tr>\n",
       "    <tr>\n",
       "      <th>1</th>\n",
       "      <td>2</td>\n",
       "      <td>4.631261</td>\n",
       "      <td>3.123682</td>\n",
       "    </tr>\n",
       "    <tr>\n",
       "      <th>2</th>\n",
       "      <td>3</td>\n",
       "      <td>4.334096</td>\n",
       "      <td>3.473361</td>\n",
       "    </tr>\n",
       "    <tr>\n",
       "      <th>3</th>\n",
       "      <td>4</td>\n",
       "      <td>4.009718</td>\n",
       "      <td>3.874126</td>\n",
       "    </tr>\n",
       "    <tr>\n",
       "      <th>4</th>\n",
       "      <td>5</td>\n",
       "      <td>4.231340</td>\n",
       "      <td>3.603808</td>\n",
       "    </tr>\n",
       "  </tbody>\n",
       "</table>\n",
       "</div>"
      ],
      "text/plain": [
       "   Type     data1     data2\n",
       "0     1  6.343669  4.200081\n",
       "1     2  4.631261  3.123682\n",
       "2     3  4.334096  3.473361\n",
       "3     4  4.009718  3.874126\n",
       "4     5  4.231340  3.603808"
      ]
     },
     "execution_count": 14,
     "metadata": {},
     "output_type": "execute_result"
    }
   ],
   "source": [
    "att_res"
   ]
  },
  {
   "cell_type": "code",
   "execution_count": 15,
   "metadata": {},
   "outputs": [
    {
     "data": {
      "text/html": [
       "<div>\n",
       "<style scoped>\n",
       "    .dataframe tbody tr th:only-of-type {\n",
       "        vertical-align: middle;\n",
       "    }\n",
       "\n",
       "    .dataframe tbody tr th {\n",
       "        vertical-align: top;\n",
       "    }\n",
       "\n",
       "    .dataframe thead th {\n",
       "        text-align: right;\n",
       "    }\n",
       "</style>\n",
       "<table border=\"1\" class=\"dataframe\">\n",
       "  <thead>\n",
       "    <tr style=\"text-align: right;\">\n",
       "      <th></th>\n",
       "      <th>0</th>\n",
       "      <th>1</th>\n",
       "      <th>2</th>\n",
       "      <th>3</th>\n",
       "      <th>4</th>\n",
       "      <th>5</th>\n",
       "      <th>6</th>\n",
       "      <th>7</th>\n",
       "      <th>8</th>\n",
       "      <th>9</th>\n",
       "      <th>...</th>\n",
       "      <th>4792</th>\n",
       "      <th>4793</th>\n",
       "      <th>4794</th>\n",
       "      <th>4795</th>\n",
       "      <th>4796</th>\n",
       "      <th>4797</th>\n",
       "      <th>4798</th>\n",
       "      <th>4799</th>\n",
       "      <th>4800</th>\n",
       "      <th>4801</th>\n",
       "    </tr>\n",
       "  </thead>\n",
       "  <tbody>\n",
       "    <tr>\n",
       "      <th>data1</th>\n",
       "      <td>0.500263</td>\n",
       "      <td>0.558599</td>\n",
       "      <td>0.669056</td>\n",
       "      <td>0.612377</td>\n",
       "      <td>0.660447</td>\n",
       "      <td>0.623255</td>\n",
       "      <td>0.745683</td>\n",
       "      <td>0.708029</td>\n",
       "      <td>0.661287</td>\n",
       "      <td>0.705857</td>\n",
       "      <td>...</td>\n",
       "      <td>0.547365</td>\n",
       "      <td>0.664137</td>\n",
       "      <td>0.675705</td>\n",
       "      <td>0.729696</td>\n",
       "      <td>0.703627</td>\n",
       "      <td>0.661912</td>\n",
       "      <td>0.506077</td>\n",
       "      <td>0.662240</td>\n",
       "      <td>0.658703</td>\n",
       "      <td>0.589029</td>\n",
       "    </tr>\n",
       "    <tr>\n",
       "      <th>data2</th>\n",
       "      <td>0.896465</td>\n",
       "      <td>0.508538</td>\n",
       "      <td>0.756250</td>\n",
       "      <td>0.296213</td>\n",
       "      <td>0.423098</td>\n",
       "      <td>0.430701</td>\n",
       "      <td>0.262317</td>\n",
       "      <td>0.697293</td>\n",
       "      <td>0.557922</td>\n",
       "      <td>0.690645</td>\n",
       "      <td>...</td>\n",
       "      <td>0.440974</td>\n",
       "      <td>0.300839</td>\n",
       "      <td>0.238827</td>\n",
       "      <td>0.220151</td>\n",
       "      <td>0.506504</td>\n",
       "      <td>0.469937</td>\n",
       "      <td>0.529750</td>\n",
       "      <td>0.560099</td>\n",
       "      <td>0.404936</td>\n",
       "      <td>0.588888</td>\n",
       "    </tr>\n",
       "  </tbody>\n",
       "</table>\n",
       "<p>2 rows × 4802 columns</p>\n",
       "</div>"
      ],
      "text/plain": [
       "           0         1         2         3         4         5         6     \\\n",
       "data1  0.500263  0.558599  0.669056  0.612377  0.660447  0.623255  0.745683   \n",
       "data2  0.896465  0.508538  0.756250  0.296213  0.423098  0.430701  0.262317   \n",
       "\n",
       "           7         8         9     ...      4792      4793      4794  \\\n",
       "data1  0.708029  0.661287  0.705857  ...  0.547365  0.664137  0.675705   \n",
       "data2  0.697293  0.557922  0.690645  ...  0.440974  0.300839  0.238827   \n",
       "\n",
       "           4795      4796      4797      4798      4799      4800      4801  \n",
       "data1  0.729696  0.703627  0.661912  0.506077  0.662240  0.658703  0.589029  \n",
       "data2  0.220151  0.506504  0.469937  0.529750  0.560099  0.404936  0.588888  \n",
       "\n",
       "[2 rows x 4802 columns]"
      ]
     },
     "execution_count": 15,
     "metadata": {},
     "output_type": "execute_result"
    }
   ],
   "source": [
    "prop_df"
   ]
  }
 ],
 "metadata": {
  "kernelspec": {
   "display_name": "Python 3",
   "language": "python",
   "name": "python3"
  },
  "language_info": {
   "codemirror_mode": {
    "name": "ipython",
    "version": 3
   },
   "file_extension": ".py",
   "mimetype": "text/x-python",
   "name": "python",
   "nbconvert_exporter": "python",
   "pygments_lexer": "ipython3",
   "version": "3.7.4"
  }
 },
 "nbformat": 4,
 "nbformat_minor": 4
}
